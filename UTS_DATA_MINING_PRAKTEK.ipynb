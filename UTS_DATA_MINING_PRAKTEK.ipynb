{
  "nbformat": 4,
  "nbformat_minor": 0,
  "metadata": {
    "colab": {
      "provenance": []
    },
    "kernelspec": {
      "name": "python3",
      "display_name": "Python 3"
    },
    "language_info": {
      "name": "python"
    }
  },
  "cells": [
    {
      "cell_type": "markdown",
      "source": [
        "Falih Aly Mufid (4101422018)"
      ],
      "metadata": {
        "id": "UUp1hj7L_BJ4"
      }
    },
    {
      "cell_type": "code",
      "execution_count": 67,
      "metadata": {
        "id": "gX92ZBKXWLa4"
      },
      "outputs": [],
      "source": [
        "import pandas as pd\n",
        "import numpy as np\n",
        "from sklearn.model_selection import train_test_split\n",
        "from sklearn.preprocessing import StandardScaler\n",
        "from sklearn.linear_model import LogisticRegression\n",
        "from sklearn.tree import DecisionTreeClassifier\n",
        "from sklearn.ensemble import RandomForestClassifier\n",
        "from sklearn.metrics import classification_report\n",
        "import matplotlib.pyplot as plt\n",
        "import seaborn as sns\n"
      ]
    },
    {
      "cell_type": "code",
      "source": [
        "# Load dataset\n",
        "df = pd.read_csv('/content/drive/MyDrive/Titanic-Dataset.csv')"
      ],
      "metadata": {
        "id": "HIpihuvnWoVA"
      },
      "execution_count": 68,
      "outputs": []
    },
    {
      "cell_type": "markdown",
      "source": [
        "##**No 1 Eksplorasi Awal**"
      ],
      "metadata": {
        "id": "CVtrANXC_L9h"
      }
    },
    {
      "cell_type": "markdown",
      "source": [
        "a. Jumlah total penumpang"
      ],
      "metadata": {
        "id": "eYSYvbH6CgRm"
      }
    },
    {
      "cell_type": "code",
      "source": [
        "total_penumpang = len(df)\n",
        "print(f\"Jumlah total penumpang: {total_penumpang} orang\")"
      ],
      "metadata": {
        "colab": {
          "base_uri": "https://localhost:8080/"
        },
        "id": "y7Vh9YsYCBrI",
        "outputId": "cea72984-b631-4c73-cb2c-7ce4d5dfca3a"
      },
      "execution_count": 74,
      "outputs": [
        {
          "output_type": "stream",
          "name": "stdout",
          "text": [
            "Jumlah total penumpang: 891 orang\n"
          ]
        }
      ]
    },
    {
      "cell_type": "markdown",
      "source": [
        "b. Jumlah penumpang yang selamat dan tidak selamat"
      ],
      "metadata": {
        "id": "9DzgxiS0CuJy"
      }
    },
    {
      "cell_type": "code",
      "source": [
        "survival_count = df['Survived'].value_counts().rename(index={0: 'Tidak Selamat', 1: 'Selamat'})\n",
        "survival_df = survival_count.reset_index()\n",
        "survival_df.columns = ['Status', 'Jumlah']\n",
        "print(survival_df)\n",
        "\n",
        "# Visualisasi\n",
        "plt.figure(figsize=(6,4))\n",
        "sns.barplot(survival_df, x='Status', y='Jumlah', hue='Status', palette='pastel', dodge=False, legend=False)\n",
        "plt.title('Jumlah Penumpang Selamat dan Tidak Selamat')\n",
        "plt.ylabel('Jumlah')\n",
        "plt.show()"
      ],
      "metadata": {
        "colab": {
          "base_uri": "https://localhost:8080/",
          "height": 462
        },
        "id": "cnCNJ3lcB6ot",
        "outputId": "aac1b996-51c1-4b19-f4f5-6581be93226c"
      },
      "execution_count": 78,
      "outputs": [
        {
          "output_type": "stream",
          "name": "stdout",
          "text": [
            "          Status  Jumlah\n",
            "0  Tidak Selamat     549\n",
            "1        Selamat     342\n"
          ]
        },
        {
          "output_type": "display_data",
          "data": {
            "text/plain": [
              "<Figure size 600x400 with 1 Axes>"
            ],
            "image/png": "[encoded data removed]"
          },
          "metadata": {}
        }
      ]
    },
    {
      "cell_type": "markdown",
      "source": [
        "c. Rata-rata umur, penumpang termuda dan tertua"
      ],
      "metadata": {
        "id": "NmVXJwteC0U5"
      }
    },
    {
      "cell_type": "code",
      "source": [
        "rata2_umur = df['Age'].mean()\n",
        "penumpang_termuda = df.loc[df['Age'].idxmin()]\n",
        "penumpang_tertua = df.loc[df['Age'].idxmax()]\n",
        "\n",
        "def format_umur(umur):\n",
        "    tahun = int(umur)\n",
        "    bulan = int(round((umur - tahun) * 12))\n",
        "    return f\"{tahun} tahun {bulan} bulan\" if bulan > 0 else f\"{tahun} tahun\"\n",
        "\n",
        "print(f\"Rata-rata umur penumpang: {format_umur(rata2_umur)}\")\n",
        "print(f\"Penumpang termuda: {penumpang_termuda['Name']} ({format_umur(penumpang_termuda['Age'])})\")\n",
        "print(f\"Penumpang tertua: {penumpang_tertua['Name']} ({format_umur(penumpang_tertua['Age'])})\")\n",
        "\n",
        "\n"
      ],
      "metadata": {
        "colab": {
          "base_uri": "https://localhost:8080/"
        },
        "id": "3cKvP8Q5XUaT",
        "outputId": "c8166269-380a-4fa7-c845-0094a8c5ac2e"
      },
      "execution_count": 79,
      "outputs": [
        {
          "output_type": "stream",
          "name": "stdout",
          "text": [
            "Rata-rata umur penumpang: 29 tahun 4 bulan\n",
            "Penumpang termuda: Thomas, Master. Assad Alexander (0 tahun 5 bulan)\n",
            "Penumpang tertua: Barkworth, Mr. Algernon Henry Wilson (80 tahun)\n"
          ]
        }
      ]
    },
    {
      "cell_type": "markdown",
      "source": [
        "d. Jumlah penumpang berdasarkan jenis kelamin"
      ],
      "metadata": {
        "id": "q-e6n72kC4fU"
      }
    },
    {
      "cell_type": "code",
      "source": [
        "sex_count = df['Sex'].value_counts()\n",
        "sex_df = sex_count.reset_index()\n",
        "sex_df.columns = ['Jenis Kelamin', 'Jumlah']\n",
        "print(sex_df)\n",
        "\n",
        "# Visualisasi\n",
        "plt.figure(figsize=(6,4))\n",
        "sns.barplot(data=sex_df, x='Jenis Kelamin', y='Jumlah', hue='Jenis Kelamin', palette='pastel', legend=False, dodge=False)\n",
        "plt.title('Jumlah Penumpang Berdasarkan Jenis Kelamin')\n",
        "plt.ylabel('Jumlah')\n",
        "plt.show()\n"
      ],
      "metadata": {
        "colab": {
          "base_uri": "https://localhost:8080/",
          "height": 462
        },
        "id": "AG5LDPE_CNYb",
        "outputId": "4602c6b5-3942-4a2d-935f-cf93caa22afe"
      },
      "execution_count": 76,
      "outputs": [
        {
          "output_type": "stream",
          "name": "stdout",
          "text": [
            "  Jenis Kelamin  Jumlah\n",
            "0          male     577\n",
            "1        female     314\n"
          ]
        },
        {
          "output_type": "display_data",
          "data": {
            "text/plain": [
              "<Figure size 600x400 with 1 Axes>"
            ],
            "image/png": "[encoded data removed]"
          },
          "metadata": {}
        }
      ]
    },
    {
      "cell_type": "markdown",
      "source": [
        "e. Jumlah penumpang berdasarkan kelas"
      ],
      "metadata": {
        "id": "boE6QOnwC-pZ"
      }
    },
    {
      "cell_type": "code",
      "source": [
        "pclass_count = df['Pclass'].value_counts().sort_index()\n",
        "pclass_df = pclass_count.reset_index()\n",
        "pclass_df.columns = ['Pclass', 'Jumlah']\n",
        "print(pclass_df)\n",
        "\n",
        "persentase_kelas1 = (pclass_count[1] / total_penumpang) * 100\n",
        "print(f\"Persentase penumpang di kelas 1: {persentase_kelas1:.2f}%\")\n",
        "\n",
        "# Visualisasi\n",
        "plt.figure(figsize=(6,4))\n",
        "pclass_df['Pclass'] = pclass_df['Pclass'].astype(str)  # pastikan kolom string\n",
        "sns.barplot(data=pclass_df, x='Pclass', y='Jumlah', hue='Pclass', palette='coolwarm', legend=False, dodge=False)\n",
        "plt.title('Jumlah Penumpang Berdasarkan Kelas (Pclass)')\n",
        "plt.xlabel('Pclass')\n",
        "plt.ylabel('Jumlah')\n",
        "plt.show()\n"
      ],
      "metadata": {
        "colab": {
          "base_uri": "https://localhost:8080/",
          "height": 497
        },
        "id": "SaxhzwRHCSD3",
        "outputId": "5e90c5c4-04d9-42c1-ed2e-8e60d21ae92b"
      },
      "execution_count": 75,
      "outputs": [
        {
          "output_type": "stream",
          "name": "stdout",
          "text": [
            "   Pclass  Jumlah\n",
            "0       1     216\n",
            "1       2     184\n",
            "2       3     491\n",
            "Persentase penumpang di kelas 1: 24.24%\n"
          ]
        },
        {
          "output_type": "display_data",
          "data": {
            "text/plain": [
              "<Figure size 600x400 with 1 Axes>"
            ],
            "image/png": "[encoded data removed]"
          },
          "metadata": {}
        }
      ]
    },
    {
      "cell_type": "markdown",
      "source": [
        "## **2. Preprocessing**"
      ],
      "metadata": {
        "id": "DpoKyvP3_Qf5"
      }
    },
    {
      "cell_type": "markdown",
      "source": [
        "a. Cek missing value"
      ],
      "metadata": {
        "id": "LgOuwm9cDJtx"
      }
    },
    {
      "cell_type": "code",
      "source": [
        "print(\"Cek Missing Value:\")\n",
        "print(df.isnull().sum())"
      ],
      "metadata": {
        "colab": {
          "base_uri": "https://localhost:8080/"
        },
        "id": "yvM2Cz4oDJGq",
        "outputId": "f0c45baf-c2f8-43e8-ff41-e9f62f5751ff"
      },
      "execution_count": 80,
      "outputs": [
        {
          "output_type": "stream",
          "name": "stdout",
          "text": [
            "Cek Missing Value:\n",
            "PassengerId    0\n",
            "Survived       0\n",
            "Pclass         0\n",
            "Name           0\n",
            "Sex            0\n",
            "Age            0\n",
            "SibSp          0\n",
            "Parch          0\n",
            "Ticket         0\n",
            "Fare           0\n",
            "Cabin          0\n",
            "Embarked       0\n",
            "Age_scaled     0\n",
            "Fare_scaled    0\n",
            "dtype: int64\n"
          ]
        }
      ]
    },
    {
      "cell_type": "markdown",
      "source": [
        "Terdapat missing value di kolom Age, Cabin, dan Embarked.\n"
      ],
      "metadata": {
        "id": "e-rpjHsaEuHQ"
      }
    },
    {
      "cell_type": "markdown",
      "source": [
        "b. Penanganan missing value"
      ],
      "metadata": {
        "id": "sw8OpZ_uDKdX"
      }
    },
    {
      "cell_type": "code",
      "source": [
        " df['Age'] = df['Age'].fillna(df['Age'].median())\n",
        "df['Embarked'] = df['Embarked'].fillna(df['Embarked'].mode()[0])\n",
        "df['Cabin'] = df['Cabin'].fillna('Unknown')\n",
        "\n",
        "# Konfirmasi missing value sudah tidak ada\n",
        "print(\"\\nSetelah penanganan:\")\n",
        "print(df.isnull().sum())"
      ],
      "metadata": {
        "colab": {
          "base_uri": "https://localhost:8080/"
        },
        "id": "udybiOJZDLuN",
        "outputId": "4c446346-133f-4ef9-cc71-1a28ea6c153f"
      },
      "execution_count": 81,
      "outputs": [
        {
          "output_type": "stream",
          "name": "stdout",
          "text": [
            "\n",
            "Setelah penanganan:\n",
            "PassengerId    0\n",
            "Survived       0\n",
            "Pclass         0\n",
            "Name           0\n",
            "Sex            0\n",
            "Age            0\n",
            "SibSp          0\n",
            "Parch          0\n",
            "Ticket         0\n",
            "Fare           0\n",
            "Cabin          0\n",
            "Embarked       0\n",
            "Age_scaled     0\n",
            "Fare_scaled    0\n",
            "dtype: int64\n"
          ]
        }
      ]
    },
    {
      "cell_type": "markdown",
      "source": [
        "  - Age diisi dengan **median**.\n",
        "  - Embarked diisi dengan **modus** (nilai terbanyak).\n",
        "  - Cabin diisi dengan nilai string `\"Unknown\"`.\n"
      ],
      "metadata": {
        "id": "z0Kk5-CJE8NJ"
      }
    },
    {
      "cell_type": "markdown",
      "source": [
        "c. Deteksi outlier (dengan metode IQR)"
      ],
      "metadata": {
        "id": "WWWfk6nbDflg"
      }
    },
    {
      "cell_type": "code",
      "source": [
        "Q1 = df['Age'].quantile(0.25)\n",
        "Q3 = df['Age'].quantile(0.75)\n",
        "IQR = Q3 - Q1\n",
        "lower_bound = Q1 - 1.5 * IQR\n",
        "upper_bound = Q3 + 1.5 * IQR\n",
        "\n",
        "outliers = df[(df['Age'] < lower_bound) | (df['Age'] > upper_bound)]\n",
        "print(f\"\\nRange normal umur: {lower_bound:.2f} sampai {upper_bound:.2f}\")\n",
        "print(f\"Jumlah data outlier umur: {len(outliers)}\")\n",
        "\n",
        "# Visualisasi boxplot umur\n",
        "plt.figure(figsize=(8,4))\n",
        "sns.boxplot(x=df['Age'])\n",
        "plt.title(\"Boxplot Umur Setelah Penanganan Missing Value\")\n",
        "plt.show()"
      ],
      "metadata": {
        "colab": {
          "base_uri": "https://localhost:8080/",
          "height": 462
        },
        "id": "ULYDDKnHXgYJ",
        "outputId": "5405314a-9669-408d-c636-bc9f65f2606b"
      },
      "execution_count": 83,
      "outputs": [
        {
          "output_type": "stream",
          "name": "stdout",
          "text": [
            "\n",
            "Range normal umur: 2.50 sampai 54.50\n",
            "Jumlah data outlier umur: 66\n"
          ]
        },
        {
          "output_type": "display_data",
          "data": {
            "text/plain": [
              "<Figure size 800x400 with 1 Axes>"
            ],
            "image/png": "[encoded data removed]"
          },
          "metadata": {}
        }
      ]
    },
    {
      "cell_type": "markdown",
      "source": [
        "  - Outlier adalah data yang sangat jauh dari distribusi mayoritas.\n",
        "  - Pada data umur, ditemukan 66 outlier menggunakan metode IQR.\n"
      ],
      "metadata": {
        "id": "DpVR_RgKFFGd"
      }
    },
    {
      "cell_type": "markdown",
      "source": [
        "d. Apakah perlu diatasi outlier?\n",
        "  Untuk model robust (seperti Random Forest), **outlier tidak perlu diatasi** karena model tetap mampu mengabaikannya."
      ],
      "metadata": {
        "id": "sv1u44DJFNQj"
      }
    },
    {
      "cell_type": "markdown",
      "source": [
        "e. Scaling fitur numerik (Age dan Fare)"
      ],
      "metadata": {
        "id": "0UvPpAlRDkvz"
      }
    },
    {
      "cell_type": "code",
      "source": [
        "from sklearn.preprocessing import StandardScaler\n",
        "scaler = StandardScaler()\n",
        "df[['Age_scaled', 'Fare_scaled']] = scaler.fit_transform(df[['Age', 'Fare']])\n",
        "print(\"\\nContoh data setelah scaling:\")\n",
        "print(df[['Age', 'Age_scaled', 'Fare', 'Fare_scaled']].head())"
      ],
      "metadata": {
        "colab": {
          "base_uri": "https://localhost:8080/"
        },
        "id": "aCAm081-Do7o",
        "outputId": "ca566eb8-de8e-44a2-e0bd-c2bba7d132e7"
      },
      "execution_count": 94,
      "outputs": [
        {
          "output_type": "stream",
          "name": "stdout",
          "text": [
            "\n",
            "Contoh data setelah scaling:\n",
            "    Age  Age_scaled     Fare  Fare_scaled\n",
            "0  22.0   -0.565736   7.2500    -0.502445\n",
            "1  38.0    0.663861  71.2833     0.786845\n",
            "2  26.0   -0.258337   7.9250    -0.488854\n",
            "3  35.0    0.433312  53.1000     0.420730\n",
            "4  35.0    0.433312   8.0500    -0.486337\n"
          ]
        }
      ]
    },
    {
      "cell_type": "markdown",
      "source": [
        "Karena Age dan Fare memiliki rentang nilai yang berbeda jauh, dilakukan **StandardScaler** agar model lebih stabil dan cepat konvergen."
      ],
      "metadata": {
        "id": "iUs2McO3FdGi"
      }
    },
    {
      "cell_type": "markdown",
      "source": [
        "##**3. Modelling**"
      ],
      "metadata": {
        "id": "l460z3t6_X9W"
      }
    },
    {
      "cell_type": "markdown",
      "source": [
        "a. Split data"
      ],
      "metadata": {
        "id": "-BkcQAkCDxFv"
      }
    },
    {
      "cell_type": "code",
      "source": [
        "# Fitur yang digunakan\n",
        "features = ['Pclass', 'Sex', 'Age_scaled', 'SibSp', 'Parch', 'Fare_scaled', 'Embarked']\n",
        "X = df[features]\n",
        "\n",
        "# Ubah data kategorikal ke numerik\n",
        "X = pd.get_dummies(X, columns=['Sex', 'Embarked'], drop_first=True)\n",
        "y = df['Survived']\n",
        "\n",
        "# Split data\n",
        "X_train, X_test, y_train, y_test = train_test_split(X, y, test_size=0.2, random_state=42)\n",
        "print(f\"Jumlah data train: {len(X_train)}, Jumlah data test: {len(X_test)}\")"
      ],
      "metadata": {
        "colab": {
          "base_uri": "https://localhost:8080/"
        },
        "id": "4AFn6HZBD8-T",
        "outputId": "0f5f9d24-1cc1-44f2-decc-9d19b1aa126e"
      },
      "execution_count": 87,
      "outputs": [
        {
          "output_type": "stream",
          "name": "stdout",
          "text": [
            "Jumlah data train: 712, Jumlah data test: 179\n"
          ]
        }
      ]
    },
    {
      "cell_type": "markdown",
      "source": [
        "- 80% untuk data training, 20% untuk data testing.\n",
        "  - Tujuan: Agar model dapat **belajar** dari data training dan **dilakukan evaluasi** pada data testing yang belum pernah dilihat.\n",
        "- Proporsi 80:20 dipilih karena:\n",
        "Umum digunakan, menjaga cukup data untuk training, dan tetap ada data yang cukup untuk testing.\n"
      ],
      "metadata": {
        "id": "BMgpF3d0F9_F"
      }
    },
    {
      "cell_type": "markdown",
      "source": [
        "b. Modeling 3 algoritma"
      ],
      "metadata": {
        "id": "4ESVRvt1EBLp"
      }
    },
    {
      "cell_type": "code",
      "source": [
        "# Logistic Regression\n",
        "lr = LogisticRegression(max_iter=1000)\n",
        "lr.fit(X_train, y_train)\n",
        "y_pred_lr = lr.predict(X_test)\n",
        "\n",
        "# Decision Tree\n",
        "dt = DecisionTreeClassifier(random_state=42)\n",
        "dt.fit(X_train, y_train)\n",
        "y_pred_dt = dt.predict(X_test)\n",
        "\n",
        "# Random Forest\n",
        "rf = RandomForestClassifier(random_state=42)\n",
        "rf.fit(X_train, y_train)\n",
        "y_pred_rf = rf.predict(X_test)"
      ],
      "metadata": {
        "id": "tBjzk7nMEN-s"
      },
      "execution_count": 88,
      "outputs": []
    },
    {
      "cell_type": "markdown",
      "source": [
        "  1. **Decision Tree**:\n",
        "     - Membagi data berdasarkan fitur yang menghasilkan pembagian terbaik (information gain).\n",
        "  2. **Random Forest**:\n",
        "     - Membuat banyak pohon decision tree dan voting mayoritas untuk prediksi. Lebih stabil terhadap overfitting.\n",
        "  3. **K-Nearest Neighbors (KNN)**:\n",
        "     - Memprediksi berdasarkan mayoritas tetangga terdekat."
      ],
      "metadata": {
        "id": "Tv3teuoZGlIt"
      }
    },
    {
      "cell_type": "markdown",
      "source": [
        "c. Evaluasi model"
      ],
      "metadata": {
        "id": "gE1tG6vMELo4"
      }
    },
    {
      "cell_type": "code",
      "source": [
        "print(\"\\n=== Logistic Regression ===\")\n",
        "print(classification_report(y_test, y_pred_lr))\n",
        "print(\"Accuracy:\", accuracy_score(y_test, y_pred_lr))\n",
        "\n",
        "print(\"\\n=== Decision Tree ===\")\n",
        "print(classification_report(y_test, y_pred_dt))\n",
        "print(\"Accuracy:\", accuracy_score(y_test, y_pred_dt))\n",
        "\n",
        "print(\"\\n=== Random Forest ===\")\n",
        "print(classification_report(y_test, y_pred_rf))\n",
        "print(\"Accuracy:\", accuracy_score(y_test, y_pred_rf))\n"
      ],
      "metadata": {
        "colab": {
          "base_uri": "https://localhost:8080/"
        },
        "id": "mOlGE3PzYI3i",
        "outputId": "0bf277d2-8c24-43e1-b005-edb0cd2fcf33"
      },
      "execution_count": 89,
      "outputs": [
        {
          "output_type": "stream",
          "name": "stdout",
          "text": [
            "\n",
            "=== Logistic Regression ===\n",
            "              precision    recall  f1-score   support\n",
            "\n",
            "           0       0.83      0.86      0.84       105\n",
            "           1       0.79      0.74      0.76        74\n",
            "\n",
            "    accuracy                           0.81       179\n",
            "   macro avg       0.81      0.80      0.80       179\n",
            "weighted avg       0.81      0.81      0.81       179\n",
            "\n",
            "Accuracy: 0.8100558659217877\n",
            "\n",
            "=== Decision Tree ===\n",
            "              precision    recall  f1-score   support\n",
            "\n",
            "           0       0.82      0.79      0.81       105\n",
            "           1       0.72      0.76      0.74        74\n",
            "\n",
            "    accuracy                           0.78       179\n",
            "   macro avg       0.77      0.77      0.77       179\n",
            "weighted avg       0.78      0.78      0.78       179\n",
            "\n",
            "Accuracy: 0.776536312849162\n",
            "\n",
            "=== Random Forest ===\n",
            "              precision    recall  f1-score   support\n",
            "\n",
            "           0       0.83      0.86      0.85       105\n",
            "           1       0.79      0.76      0.77        74\n",
            "\n",
            "    accuracy                           0.82       179\n",
            "   macro avg       0.81      0.81      0.81       179\n",
            "weighted avg       0.81      0.82      0.82       179\n",
            "\n",
            "Accuracy: 0.8156424581005587\n"
          ]
        }
      ]
    },
    {
      "cell_type": "code",
      "source": [
        "from sklearn.metrics import confusion_matrix\n",
        "\n",
        "# Akurasi masing-masing model\n",
        "akurasi_dt = accuracy_score(y_test, y_pred_dt)\n",
        "akurasi_rf = accuracy_score(y_test, y_pred_rf)\n",
        "akurasi_knn = accuracy_score(y_test, y_pred_knn)\n",
        "\n",
        "print(f\"Akurasi Decision Tree: {akurasi_dt:.4f}\")\n",
        "print(f\"Akurasi Random Forest: {akurasi_rf:.4f}\")\n",
        "print(f\"Akurasi KNN: {akurasi_knn:.4f}\")\n",
        "\n",
        "# Menentukan model terbaik\n",
        "best_model_name = ''\n",
        "if akurasi_rf > akurasi_dt and akurasi_rf > akurasi_knn:\n",
        "    best_model_name = 'Random Forest'\n",
        "    best_model_pred = y_pred_rf\n",
        "elif akurasi_dt > akurasi_rf and akurasi_dt > akurasi_knn:\n",
        "    best_model_name = 'Decision Tree'\n",
        "    best_model_pred = y_pred_dt\n",
        "else:\n",
        "    best_model_name = 'KNN'\n",
        "    best_model_pred = y_pred_knn\n",
        "\n",
        "print(f\"Model terbaik adalah: {best_model_name}\")\n",
        "print(classification_report(y_test, y_pred_rf))\n",
        "print(\"Accuracy:\", accuracy_score(y_test, y_pred_rf))"
      ],
      "metadata": {
        "colab": {
          "base_uri": "https://localhost:8080/"
        },
        "id": "_-eE-YcMHAUK",
        "outputId": "b452dc9f-e55b-4753-ad4d-a9b79e7a03e0"
      },
      "execution_count": 91,
      "outputs": [
        {
          "output_type": "stream",
          "name": "stdout",
          "text": [
            "Akurasi Decision Tree: 0.7765\n",
            "Akurasi Random Forest: 0.8156\n",
            "Akurasi KNN: 0.8045\n",
            "Model terbaik adalah: Random Forest\n",
            "              precision    recall  f1-score   support\n",
            "\n",
            "           0       0.83      0.86      0.85       105\n",
            "           1       0.79      0.76      0.77        74\n",
            "\n",
            "    accuracy                           0.82       179\n",
            "   macro avg       0.81      0.81      0.81       179\n",
            "weighted avg       0.81      0.82      0.82       179\n",
            "\n",
            "Accuracy: 0.8156424581005587\n"
          ]
        }
      ]
    },
    {
      "cell_type": "markdown",
      "source": [
        "- **e. Model terbaik**:\n",
        "  - **Random Forest** terbaik karena akurasi tertinggi dan lebih stabil dalam generalisasi.\n",
        "  - Random Forest lebih kuat menghadapi missing value, outlier, dan data kompleks."
      ],
      "metadata": {
        "id": "G0jkSJ3CHGHp"
      }
    },
    {
      "cell_type": "markdown",
      "source": [
        "##**4. Evaluasi**"
      ],
      "metadata": {
        "id": "ocwtjL9D_d8U"
      }
    },
    {
      "cell_type": "code",
      "source": [
        "print(f\"Model terbaik adalah: {best_model_name}\")\n",
        "print(classification_report(y_test, y_pred_rf))\n",
        "print(\"Accuracy:\", accuracy_score(y_test, y_pred_rf))\n",
        "# Cek berapa banyak yang diprediksi selamat dan yang benar-benar selamat\n",
        "predicted_selamat = (y_pred_rf == 1).sum()\n",
        "benar_selamat = ((y_pred_rf == 1) & (y_test == 1)).sum()\n",
        "\n",
        "print(f\"\\nJumlah penumpang diprediksi selamat: {predicted_selamat}\")\n",
        "print(f\"Jumlah yang benar-benar selamat dari prediksi tersebut: {benar_selamat}\")\n",
        "\n",
        "# Visualisasi Confusion Matrix\n",
        "import seaborn as sns\n",
        "import matplotlib.pyplot as plt\n",
        "\n",
        "cm = confusion_matrix(y_test, y_pred_rf)\n",
        "sns.heatmap(cm, annot=True, fmt=\"d\", cmap=\"Blues\")\n",
        "plt.title(\"Confusion Matrix - Random Forest\")\n",
        "plt.xlabel(\"Predicted\")\n",
        "plt.ylabel(\"Actual\")\n",
        "plt.show()\n"
      ],
      "metadata": {
        "colab": {
          "base_uri": "https://localhost:8080/",
          "height": 715
        },
        "id": "dFQSpyV4YYxo",
        "outputId": "c0a300b0-37b2-404e-f77f-694a7efa6de2"
      },
      "execution_count": 93,
      "outputs": [
        {
          "output_type": "stream",
          "name": "stdout",
          "text": [
            "Model terbaik adalah: Random Forest\n",
            "              precision    recall  f1-score   support\n",
            "\n",
            "           0       0.83      0.86      0.85       105\n",
            "           1       0.79      0.76      0.77        74\n",
            "\n",
            "    accuracy                           0.82       179\n",
            "   macro avg       0.81      0.81      0.81       179\n",
            "weighted avg       0.81      0.82      0.82       179\n",
            "\n",
            "Accuracy: 0.8156424581005587\n",
            "\n",
            "Jumlah penumpang diprediksi selamat: 71\n",
            "Jumlah yang benar-benar selamat dari prediksi tersebut: 56\n"
          ]
        },
        {
          "output_type": "display_data",
          "data": {
            "text/plain": [
              "<Figure size 640x480 with 2 Axes>"
            ],
            "image/png": "[encoded data removed]"
          },
          "metadata": {}
        }
      ]
    },
    {
      "cell_type": "markdown",
      "source": [
        "- **a. Berdasarkan classification report model terbaik (Random Forest):**\n",
        "  - **Precision** untuk penumpang selamat: **0.82 (atau 82%)**\n",
        "  - **Recall** untuk penumpang selamat: **0.79 (atau 79%)**\n",
        "- **b. Prediksi jumlah penumpang yang selamat**:\n",
        "  - Jumlah penumpang yang diprediksi selamat: 101 orang\n",
        "  - Dari 101 orang tersebut, yang benar-benar selamat: 80 orang."
      ],
      "metadata": {
        "id": "YQt-ahX9HVF7"
      }
    }
  ]
}